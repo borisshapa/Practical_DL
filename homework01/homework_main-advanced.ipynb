{
 "cells": [
  {
   "cell_type": "markdown",
   "metadata": {},
   "source": [
    "# Homework: Not So Basic Artificial Neural Networks"
   ]
  },
  {
   "cell_type": "markdown",
   "metadata": {},
   "source": [
    "Your task is to implement a simple framework for convolutional neural networks training. While convolutional neural networks is a subject of lecture 3, we expect that there are a lot of students who are familiar with the topic.\n",
    "\n",
    "In order to successfully pass this homework, you will have to:\n",
    "\n",
    "- Implement all the blocks in `homework_modules.ipynb` (esp `Conv2d` and `MaxPool2d` layers). Good implementation should pass all the tests in `homework_test_modules.ipynb`.\n",
    "- Settle with a bit of math in `homework_differentiation.ipynb`\n",
    "- Train a CNN that has at least one `Conv2d` layer, `MaxPool2d` layer and `BatchNormalization` layer and achieves at least 97% accuracy on MNIST test set.\n",
    "\n",
    "Feel free to use `homework_main-basic.ipynb` for debugging or as source of code snippets. "
   ]
  },
  {
   "cell_type": "markdown",
   "metadata": {},
   "source": [
    "Note, that this homework requires sending **multiple** files, please do not forget to include all the files when sending to TA. The list of files:\n",
    "- This notebook with cnn trained\n",
    "- `homework_modules.ipynb`\n",
    "- `homework_differentiation.ipynb`"
   ]
  },
  {
   "cell_type": "code",
   "execution_count": 1,
   "metadata": {},
   "outputs": [],
   "source": [
    "%matplotlib inline\n",
    "from time import time, sleep\n",
    "import numpy as np\n",
    "import matplotlib.pyplot as plt\n",
    "from IPython import display"
   ]
  },
  {
   "cell_type": "code",
   "execution_count": 2,
   "metadata": {},
   "outputs": [],
   "source": [
    "# (re-)load layers\n",
    "%run homework_modules.ipynb"
   ]
  },
  {
   "cell_type": "code",
   "execution_count": 3,
   "metadata": {},
   "outputs": [],
   "source": [
    "# batch generator\n",
    "def get_batches(dataset, batch_size):\n",
    "    X, Y = dataset\n",
    "    n_samples = X.shape[0]\n",
    "        \n",
    "    # Shuffle at the start of epoch\n",
    "    indices = np.arange(n_samples)\n",
    "    np.random.shuffle(indices)\n",
    "    \n",
    "    for start in range(0, n_samples, batch_size):\n",
    "        end = min(start + batch_size, n_samples)\n",
    "        \n",
    "        batch_idx = indices[start:end]\n",
    "    \n",
    "        yield X[batch_idx], Y[batch_idx]"
   ]
  },
  {
   "cell_type": "code",
   "execution_count": 4,
   "metadata": {},
   "outputs": [],
   "source": [
    "import mnist\n",
    "X_train, y_train, X_val, y_val, X_test, y_test = mnist.load_dataset()  # your dataset"
   ]
  },
  {
   "cell_type": "code",
   "execution_count": 5,
   "metadata": {},
   "outputs": [],
   "source": [
    "import numpy.typing as npt\n",
    "\n",
    "def one_hot(labels: npt.NDArray, num_classes: int = 10):\n",
    "    result = np.zeros((labels.size, num_classes))\n",
    "    result[np.arange(labels.size), labels] = 1\n",
    "    return result\n",
    "\n",
    "y_test_labels = y_test\n",
    "\n",
    "y_train = one_hot(y_train)\n",
    "y_val = one_hot(y_val)\n",
    "y_test = one_hot(y_test)\n",
    "\n",
    "X_train = X_train[:, np.newaxis]\n",
    "X_test = X_test[:, np.newaxis]\n",
    "X_val = X_val[:, np.newaxis]"
   ]
  },
  {
   "cell_type": "code",
   "execution_count": 6,
   "metadata": {},
   "outputs": [
    {
     "name": "stdout",
     "output_type": "stream",
     "text": [
      "(50000, 1, 28, 28)\n"
     ]
    }
   ],
   "source": [
    "print(X_train.shape)"
   ]
  },
  {
   "cell_type": "code",
   "execution_count": null,
   "metadata": {},
   "outputs": [
    {
     "data": {
      "image/png": "[encoded data removed]",
      "text/plain": [
       "<Figure size 432x288 with 2 Axes>"
      ]
     },
     "metadata": {
      "needs_background": "light"
     },
     "output_type": "display_data"
    },
    {
     "name": "stdout",
     "output_type": "stream",
     "text": [
      "Current loss: 0.721006\n",
      "Current accuracy: 0.927800\n"
     ]
    },
    {
     "name": "stderr",
     "output_type": "stream",
     "text": [
      " 22%|█████████▎                                | 86/390 [02:32<52:32, 10.37s/it]"
     ]
    }
   ],
   "source": [
    "from sklearn.metrics import accuracy_score\n",
    "from tqdm import tqdm\n",
    "\n",
    "model = Sequential()\n",
    "model.add(Conv2d(1, 3, 3))\n",
    "model.add(MaxPool2d(2))\n",
    "model.add(BatchNormalization())\n",
    "model.add(ReLU())\n",
    "model.add(Dropout())\n",
    "model.add(Conv2d(3, 6, 3))\n",
    "model.add(MaxPool2d(2))\n",
    "model.add(BatchNormalization())\n",
    "model.add(ReLU())\n",
    "model.add(Dropout())\n",
    "model.add(Flatten())\n",
    "model.add(Linear(294, 64))\n",
    "model.add(ReLU())\n",
    "model.add(Linear(64, 10))\n",
    "model.add(ReLU())\n",
    "model.add(SoftMax())\n",
    "\n",
    "model.train()\n",
    "\n",
    "criterion = ClassNLLCriterionUnstable()\n",
    "\n",
    "optimizer_config = {'learning_rate' : 1e-2, 'beta1': 0.8, 'beta2': 0.8, 'epsilon': 1e-8}\n",
    "optimizer_state = {}\n",
    "\n",
    "epochs = 5\n",
    "batch_size = 128\n",
    "log_every = 50\n",
    "\n",
    "loss_history = []\n",
    "accuracy = []\n",
    "\n",
    "step = 1\n",
    "for epoch in range(1, epochs + 1):\n",
    "    for x_batch, y_batch in tqdm(get_batches((X_train, y_train), batch_size), total=len(X_train) // batch_size):\n",
    "        model.zeroGradParameters()\n",
    "\n",
    "        predictions = model.forward(x_batch)\n",
    "        loss = criterion.forward(predictions, y_batch)\n",
    "\n",
    "        # Backward\n",
    "        dp = criterion.backward(predictions, y_batch)\n",
    "        model.backward(x_batch, dp)\n",
    "\n",
    "        # Update weights\n",
    "        adam_optimizer(model.getParameters(), \n",
    "                     model.getGradParameters(), \n",
    "                     optimizer_config,\n",
    "                     optimizer_state)      \n",
    "\n",
    "        loss_history.append(loss)\n",
    "\n",
    "        if step % log_every == 0:\n",
    "            model.evaluate()\n",
    "            predictions = model.forward(X_test)\n",
    "            score = accuracy_score(y_test_labels, predictions.argmax(axis=1))\n",
    "            accuracy.append(score)\n",
    "            model.train()\n",
    "        step += 1\n",
    "\n",
    "    display.clear_output(wait=True)\n",
    "\n",
    "    f, (ax1, ax2) = plt.subplots(1, 2)\n",
    "    ax1.set_title(\"Training loss\")\n",
    "    ax1.set_xlabel(\"#iteration\")\n",
    "    ax1.set_ylabel(\"loss\")\n",
    "\n",
    "    ax2.set_title(\"Accuracy\")\n",
    "    ax2.set_xlabel(\"#iteration\")\n",
    "    ax2.set_ylabel(\"Accuracy\")\n",
    "\n",
    "    ax1.plot(loss_history, 'b')\n",
    "    ax2.plot(accuracy, 'g')\n",
    "    plt.show()\n",
    "\n",
    "    print('Current loss: %f' % loss) \n",
    "    print('Current accuracy: %f' % score)"
   ]
  },
  {
   "cell_type": "markdown",
   "metadata": {},
   "source": [
    "Print here your accuracy on test set. It should be >97%. Don't forget to switch the network in 'evaluate' mode"
   ]
  },
  {
   "cell_type": "code",
   "execution_count": null,
   "metadata": {},
   "outputs": [],
   "source": []
  }
 ],
 "metadata": {
  "kernelspec": {
   "display_name": "Python 3 (ipykernel)",
   "language": "python",
   "name": "python3"
  },
  "language_info": {
   "codemirror_mode": {
    "name": "ipython",
    "version": 3
   },
   "file_extension": ".py",
   "mimetype": "text/x-python",
   "name": "python",
   "nbconvert_exporter": "python",
   "pygments_lexer": "ipython3",
   "version": "3.9.9"
  }
 },
 "nbformat": 4,
 "nbformat_minor": 1
}
