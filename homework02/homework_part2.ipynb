{
  "nbformat": 4,
  "nbformat_minor": 0,
  "metadata": {
    "kernelspec": {
      "display_name": "Python 3",
      "language": "python",
      "name": "python3"
    },
    "language_info": {
      "codemirror_mode": {
        "name": "ipython",
        "version": 3
      },
      "file_extension": ".py",
      "mimetype": "text/x-python",
      "name": "python",
      "nbconvert_exporter": "python",
      "pygments_lexer": "ipython3",
      "version": "3.9.2"
    },
    "notebookId": "65f9de61-b446-4240-9ae4-a038dd4de505",
    "colab": {
      "name": "homework_part2.ipynb",
      "provenance": []
    },
    "accelerator": "GPU"
  },
  "cells": [
    {
      "cell_type": "markdown",
      "metadata": {
        "cellId": "rqbps0po5jh7gkaa2wqkbx",
        "id": "nxjUH3skHJEZ"
      },
      "source": [
        "# Homework 2.2: The Quest For A Better Network\n",
        "\n",
        "In this assignment you will build a monster network to solve Tiny ImageNet image classification.\n",
        "\n",
        "This notebook is intended as a sequel to seminar 3, please give it a try if you haven't done so yet."
      ]
    },
    {
      "cell_type": "markdown",
      "metadata": {
        "cellId": "wxpnt6bj6ame9olh8ah1j",
        "id": "Lj1vBwXlHJEh"
      },
      "source": [
        "(please read it at least diagonally)\n",
        "\n",
        "* The ultimate quest is to create a network that has as high __accuracy__ as you can push it.\n",
        "* There is a __mini-report__ at the end that you will have to fill in. We recommend reading it first and filling it while you iterate.\n",
        " \n",
        "## Grading\n",
        "* starting at zero points\n",
        "* +20% for describing your iteration path in a report below.\n",
        "* +20% for building a network that gets above 20% accuracy\n",
        "* +10% for beating each of these milestones on __TEST__ dataset:\n",
        "    * 25% (50% points)\n",
        "    * 30% (60% points)\n",
        "    * 32.5% (70% points)\n",
        "    * 35% (80% points)\n",
        "    * 37.5% (90% points)\n",
        "    * 40% (full points)\n",
        "    \n",
        "## Restrictions\n",
        "* Please do NOT use pre-trained networks for this assignment until you reach 40%.\n",
        " * In other words, base milestones must be beaten without pre-trained nets (and such net must be present in the anytask atttachments). After that, you can use whatever you want.\n",
        "* you __can't__ do anything with validation data apart from running the evaluation procedure. Please, split train images on train and validation parts\n",
        "\n",
        "## Tips on what can be done:\n",
        "\n",
        "\n",
        " * __Network size__\n",
        "   * MOAR neurons, \n",
        "   * MOAR layers, ([torch.nn docs](http://pytorch.org/docs/master/nn.html))\n",
        "\n",
        "   * Nonlinearities in the hidden layers\n",
        "     * tanh, relu, leaky relu, etc\n",
        "   * Larger networks may take more epochs to train, so don't discard your net just because it could didn't beat the baseline in 5 epochs.\n",
        "\n",
        "   * Ph'nglui mglw'nafh Cthulhu R'lyeh wgah'nagl fhtagn!\n",
        "\n",
        "\n",
        "### The main rule of prototyping: one change at a time\n",
        "   * By now you probably have several ideas on what to change. By all means, try them out! But there's a catch: __never test several new things at once__.\n",
        "\n",
        "\n",
        "### Optimization\n",
        "   * Training for 100 epochs regardless of anything is probably a bad idea.\n",
        "   * Some networks converge over 5 epochs, others - over 500.\n",
        "   * Way to go: stop when validation score is 10 iterations past maximum\n",
        "   * You should certainly use adaptive optimizers\n",
        "     * rmsprop, nesterov_momentum, adam, adagrad and so on.\n",
        "     * Converge faster and sometimes reach better optima\n",
        "     * It might make sense to tweak learning rate/momentum, other learning parameters, batch size and number of epochs\n",
        "   * __BatchNormalization__ (nn.BatchNorm2d) for the win!\n",
        "     * Sometimes more batch normalization is better.\n",
        "   * __Regularize__ to prevent overfitting\n",
        "     * Add some L2 weight norm to the loss function, PyTorch will do the rest\n",
        "       * Can be done manually or like [this](https://discuss.pytorch.org/t/simple-l2-regularization/139/2).\n",
        "     * Dropout (`nn.Dropout`) - to prevent overfitting\n",
        "       * Don't overdo it. Check if it actually makes your network better\n",
        "   \n",
        "### Convolution architectures\n",
        "   * This task __can__ be solved by a sequence of convolutions and poolings with batch_norm and ReLU seasoning, but you shouldn't necessarily stop there.\n",
        "   * [Inception family](https://hacktilldawn.com/2016/09/25/inception-modules-explained-and-implemented/), [ResNet family](https://towardsdatascience.com/an-overview-of-resnet-and-its-variants-5281e2f56035?gi=9018057983ca), [Densely-connected convolutions (exotic)](https://arxiv.org/abs/1608.06993), [Capsule networks (exotic)](https://arxiv.org/abs/1710.09829)\n",
        "   * Please do try a few simple architectures before you go for resnet-152.\n",
        "   * Warning! Training convolutional networks can take long without GPU. That's okay.\n",
        "     * If you are CPU-only, we still recomment that you try a simple convolutional architecture\n",
        "     * a perfect option is if you can set it up to run at nighttime and check it up at the morning.\n",
        "     * Make reasonable layer size estimates. A 128-neuron first convolution is likely an overkill.\n",
        "     * __To reduce computation__ time by a factor in exchange for some accuracy drop, try using __stride__ parameter. A stride=2 convolution should take roughly 1/4 of the default (stride=1) one.\n",
        " \n",
        "   \n",
        "### Data augmemntation\n",
        "   * getting 5x as large dataset for free is a great \n",
        "     * Zoom-in+slice = move\n",
        "     * Rotate+zoom(to remove black stripes)\n",
        "     * Add Noize (gaussian or bernoulli)\n",
        "   * Simple way to do that (if you have PIL/Image): \n",
        "     * ```from scipy.misc import imrotate,imresize```\n",
        "     * and a few slicing\n",
        "     * Other cool libraries: cv2, skimake, PIL/Pillow\n",
        "   * A more advanced way is to use torchvision transforms:\n",
        "   \n",
        "    ```\n",
        "    transform_train = transforms.Compose([\n",
        "        transforms.RandomCrop(32, padding=4),\n",
        "        transforms.RandomHorizontalFlip(),\n",
        "        transforms.ToTensor(),\n",
        "        transforms.Normalize((0.4914, 0.4822, 0.4465), (0.2023, 0.1994, 0.2010)),\n",
        "    ])\n",
        "    trainset = torchvision.datasets.ImageFolder(root=path_to_tiny_imagenet, train=True, download=True, transform=transform_train)\n",
        "    trainloader = torch.utils.data.DataLoader(trainset, batch_size=128, shuffle=True, num_workers=2)\n",
        "    ```\n",
        "   \n",
        "   * Or use this tool from Keras (requires theano/tensorflow): [tutorial](https://blog.keras.io/building-powerful-image-classification-models-using-very-little-data.html), [docs](https://keras.io/preprocessing/image/)\n",
        "   * [Albumentations](https://github.com/albumentations-team/albumentations) is another awesome solution.\n",
        "   * Stay realistic. There's usually no point in flipping dogs upside down as that is not the way you usually see them.  \n",
        "    * But sometimes there is! Some examples of advanced image augmentation approaches: [mixup](https://arxiv.org/pdf/1710.09412.pdf), [cutmix](https://arxiv.org/pdf/1905.04899.pdf)   "
      ]
    },
    {
      "cell_type": "code",
      "metadata": {
        "cellId": "xkaa3usdky9sfz7upl02w",
        "id": "UgBxBcWKHJEp"
      },
      "source": [
        "import numpy as np\n",
        "import matplotlib.pyplot as plt\n",
        "%matplotlib inline\n",
        "\n",
        "import torch, torch.nn as nn, torch.nn.functional as F\n",
        "from torch.utils.data import Dataset, DataLoader\n",
        "import torchvision, torchvision.transforms as transforms\n",
        "\n",
        "# Uncomment this to disable \"Skipping walk through <class 'list'>\" warnings in DataSphere's env\n",
        "# %enable_full_walk"
      ],
      "execution_count": 2,
      "outputs": []
    },
    {
      "cell_type": "code",
      "metadata": {
        "id": "vo32nkWHY-z1",
        "colab": {
          "base_uri": "https://localhost:8080/"
        },
        "outputId": "39336f26-e8d2-4f7c-d1b4-4f3aeef8120e"
      },
      "source": [
        "!wget https://raw.githubusercontent.com/yandexdataschool/Practical_DL/spring21/homework02/tiny_img.py"
      ],
      "execution_count": 3,
      "outputs": [
        {
          "output_type": "stream",
          "name": "stdout",
          "text": [
            "--2021-10-04 21:44:59--  https://raw.githubusercontent.com/yandexdataschool/Practical_DL/spring21/homework02/tiny_img.py\n",
            "Resolving raw.githubusercontent.com (raw.githubusercontent.com)... 185.199.108.133, 185.199.109.133, 185.199.110.133, ...\n",
            "Connecting to raw.githubusercontent.com (raw.githubusercontent.com)|185.199.108.133|:443... connected.\n",
            "HTTP request sent, awaiting response... 200 OK\n",
            "Length: 4422 (4.3K) [text/plain]\n",
            "Saving to: ‘tiny_img.py’\n",
            "\n",
            "\rtiny_img.py           0%[                    ]       0  --.-KB/s               \rtiny_img.py         100%[===================>]   4.32K  --.-KB/s    in 0s      \n",
            "\n",
            "2021-10-04 21:44:59 (28.2 MB/s) - ‘tiny_img.py’ saved [4422/4422]\n",
            "\n"
          ]
        }
      ]
    },
    {
      "cell_type": "code",
      "metadata": {
        "cellId": "mqe3vhwr7q85q3bi0b3rg",
        "id": "t-ZfaJGoHJEs",
        "colab": {
          "base_uri": "https://localhost:8080/"
        },
        "outputId": "76b0ff0b-8b6a-4471-8aff-e1dedce11022"
      },
      "source": [
        "# downloading TinyImagenet\n",
        "# you don't have to run this cell more than once\n",
        "\n",
        "from tiny_img import download_tinyImg200, fix_test_data\n",
        "data_path = '.'\n",
        "download_tinyImg200(data_path)\n",
        "fix_test_data(data_path)"
      ],
      "execution_count": 4,
      "outputs": [
        {
          "output_type": "stream",
          "name": "stdout",
          "text": [
            "./tiny-imagenet-200.zip\n"
          ]
        }
      ]
    },
    {
      "cell_type": "markdown",
      "metadata": {
        "cellId": "xyur6yosaod4qmh89z4tcc",
        "id": "MxzZMNnzHJEt"
      },
      "source": [
        "We will split `tiny-imagenet-200/train` dataset into train and val parts, and use  `tiny-imagenet-200/val` dataset as a test one.\n",
        "\n",
        "You are free to use either the default ImageFolder Dataset, or the custom one, which will read and store the whole data in RAM. The second one is preferable only when you have a slow disk; make sure then you do have an extra couple of GiBs of memory (it also could take some time to load the images):"
      ]
    },
    {
      "cell_type": "code",
      "metadata": {
        "cellId": "zkftuthgyzg8r3sy9dbulo",
        "id": "gFMDZVk5HJEu"
      },
      "source": [
        "import os\n",
        "imagenet_dir = os.path.join(data_path, 'tiny-imagenet-200')\n",
        "dataset = torchvision.datasets.ImageFolder(imagenet_dir + '/train', transform=transforms.ToTensor())\n",
        "train_dataset, val_dataset = torch.utils.data.random_split(dataset, [80000, 20000],\n",
        "                                                           generator=torch.Generator().manual_seed(42))\n",
        "test_dataset = torchvision.datasets.ImageFolder(imagenet_dir + '/val', transform=transforms.ToTensor())\n",
        "\n",
        "# OR\n",
        "\n",
        "# from tiny_img_ram import TinyImagenetRAM\n",
        "# dataset = TinyImagenetRAM('tiny-imagenet-200/train', transform=transforms.ToTensor())\n",
        "# train_dataset, val_dataset = torch.utils.data.random_split(dataset, [80000, 20000],\n",
        "#                                                            generator=torch.Generator().manual_seed(42))\n",
        "# test_dataset = TinyImagenetRAM('tiny-imagenet-200/val', transform=transforms.ToTensor())"
      ],
      "execution_count": 5,
      "outputs": []
    },
    {
      "cell_type": "code",
      "metadata": {
        "id": "ou2pV5g5HJEu"
      },
      "source": [
        "batch_size = 50\n",
        "train_batch_gen = torch.utils.data.DataLoader(\n",
        "    train_dataset,\n",
        "    batch_size=batch_size,\n",
        "    shuffle=True,\n",
        "    num_workers=1\n",
        ")\n",
        "\n",
        "val_batch_gen = torch.utils.data.DataLoader(\n",
        "    val_dataset,\n",
        "    batch_size=batch_size,\n",
        "    shuffle=True,\n",
        "    num_workers=1\n",
        ")"
      ],
      "execution_count": 6,
      "outputs": []
    },
    {
      "cell_type": "code",
      "metadata": {
        "id": "4adZufvzHJEv"
      },
      "source": [
        "class ImageClassifierLinear(nn.Module):\n",
        "  def __init__(self):\n",
        "    super(ImageClassifierLinear, self).__init__()\n",
        "    self.fc1 = nn.Linear(3 * 64 * 64, 1024)\n",
        "    self.fc2 = nn.Linear(1024, 512)\n",
        "    self.fc3 = nn.Linear(512, 256)\n",
        "    self.fc4 = nn.Linear(256, 64)\n",
        "    self.fc5 = nn.Linear(64, 200)\n",
        "  \n",
        "  def forward(self, x):\n",
        "    x = torch.flatten(x, 1)\n",
        "    x = F.relu(self.fc1(x))\n",
        "    x = F.relu(self.fc2(x))\n",
        "    x = F.relu(self.fc3(x))\n",
        "    x = F.relu(self.fc4(x))\n",
        "    x = self.fc5(x)\n",
        "    return x\n",
        "\n",
        "if torch.cuda.is_available():\n",
        "  device = torch.device('cuda')\n",
        "else:\n",
        "  device = torch.device('cpu')\n",
        "\n",
        "\n",
        "modelLinear = ImageClassifierLinear().to(device)"
      ],
      "execution_count": 7,
      "outputs": []
    },
    {
      "cell_type": "code",
      "metadata": {
        "id": "ZiETZeWfHJEw"
      },
      "source": [
        "def compute_loss(model, X_batch, y_batch):\n",
        "    X_batch = torch.FloatTensor(X_batch).to(device)\n",
        "    y_batch = torch.LongTensor(y_batch).to(device)\n",
        "    logits = model.to(device)(X_batch)\n",
        "    return F.cross_entropy(logits, y_batch)"
      ],
      "execution_count": 8,
      "outputs": []
    },
    {
      "cell_type": "code",
      "metadata": {
        "id": "-YkC6jYkpIiy",
        "colab": {
          "base_uri": "https://localhost:8080/"
        },
        "outputId": "4bd1b5c0-7708-4736-f08a-048b5da0bc4e"
      },
      "source": [
        "import numpy as np\n",
        "import time \n",
        "\n",
        "opt = torch.optim.Adam(modelLinear.parameters(), lr=0.00001)\n",
        "\n",
        "train_loss = []\n",
        "val_accuracy = []\n",
        "val_accuracy_by_epochs = []\n",
        "\n",
        "epoch = 0\n",
        "while True:\n",
        "  epoch += 1\n",
        "  start_time = time.time()\n",
        "  modelLinear.train(True)\n",
        "  for X_batch, y_batch in train_batch_gen:\n",
        "    loss = compute_loss(modelLinear, X_batch, y_batch)\n",
        "    loss.backward()\n",
        "    opt.step()\n",
        "    opt.zero_grad()\n",
        "    train_loss.append(loss.cpu().data.numpy())\n",
        "\n",
        "  modelLinear.train(False)\n",
        "  for X_batch, y_batch in val_batch_gen:\n",
        "    logits = modelLinear(X_batch.to(device))\n",
        "    y_pred = logits.max(1)[1].data\n",
        "    val_accuracy.append(np.mean((y_batch.to(device) == y_pred).cpu().numpy()))\n",
        "  \n",
        "  val_accuracy_by_epoch = np.mean(val_accuracy[-len(val_dataset) // batch_size :]) * 100\n",
        "  print(\"Epoch {} took {:.3f}s\".format(epoch, time.time() - start_time))\n",
        "  print(\"    training loss (in-iteration): \\t{:.6f}\".format(np.mean(train_loss[-len(train_dataset) // batch_size :])))\n",
        "  print(\"    validation accuracy: \\t\\t\\t{:.2f} %\".format(val_accuracy_by_epoch))\n",
        "  if len(val_accuracy_by_epochs) >= 10 and all(acc < val_accuracy_by_epoch for acc in val_accuracy_by_epochs[-10:]):\n",
        "    break\n",
        "  val_accuracy_by_epochs.append(val_accuracy_by_epoch)"
      ],
      "execution_count": 9,
      "outputs": [
        {
          "output_type": "stream",
          "name": "stdout",
          "text": [
            "Epoch 1 took 53.001s\n",
            "    training loss (in-iteration): \t5.281420\n",
            "    validation accuracy: \t\t\t0.96 %\n",
            "Epoch 2 took 50.779s\n",
            "    training loss (in-iteration): \t5.215664\n",
            "    validation accuracy: \t\t\t1.26 %\n",
            "Epoch 3 took 48.968s\n",
            "    training loss (in-iteration): \t5.149888\n",
            "    validation accuracy: \t\t\t1.92 %\n",
            "Epoch 4 took 49.022s\n",
            "    training loss (in-iteration): \t5.090149\n",
            "    validation accuracy: \t\t\t2.27 %\n",
            "Epoch 5 took 49.728s\n",
            "    training loss (in-iteration): \t5.034658\n",
            "    validation accuracy: \t\t\t2.67 %\n",
            "Epoch 6 took 49.155s\n",
            "    training loss (in-iteration): \t4.983912\n",
            "    validation accuracy: \t\t\t3.23 %\n",
            "Epoch 7 took 50.656s\n",
            "    training loss (in-iteration): \t4.940295\n",
            "    validation accuracy: \t\t\t3.62 %\n",
            "Epoch 8 took 50.339s\n",
            "    training loss (in-iteration): \t4.900985\n",
            "    validation accuracy: \t\t\t3.67 %\n",
            "Epoch 9 took 50.455s\n",
            "    training loss (in-iteration): \t4.867819\n",
            "    validation accuracy: \t\t\t4.23 %\n",
            "Epoch 10 took 50.866s\n",
            "    training loss (in-iteration): \t4.838778\n",
            "    validation accuracy: \t\t\t4.49 %\n",
            "Epoch 11 took 51.644s\n",
            "    training loss (in-iteration): \t4.814221\n",
            "    validation accuracy: \t\t\t4.75 %\n"
          ]
        }
      ]
    },
    {
      "cell_type": "code",
      "metadata": {
        "id": "NO8zl1clzW7r"
      },
      "source": [
        "class ImageClassifierConv(nn.Module):\n",
        "  def __init__(self):\n",
        "    super(ImageClassifierConv, self).__init__()\n",
        "    self.conv1 = nn.Conv2d(3, 16, kernel_size=(3,3))\n",
        "    self.conv2 = nn.Conv2d(16, 32, kernel_size=(3,3))\n",
        "    self.conv3 = nn.Conv2d(32, 64, kernel_size=(3,3))\n",
        "\n",
        "    self.fc1 = nn.Linear(2304, 1024)\n",
        "    self.fc2 = nn.Linear(1024, 200)\n",
        "\n",
        "  def forward(self, x):\n",
        "    x = F.max_pool2d(F.relu(self.conv1(x)), (2, 2))\n",
        "    x = F.max_pool2d(F.relu(self.conv2(x)), (2, 2))\n",
        "    x = F.max_pool2d(F.relu(self.conv3(x)), (2, 2))\n",
        "\n",
        "    x = torch.flatten(x, 1)\n",
        "    x = F.relu(self.fc1(x))\n",
        "    x = self.fc2(x)\n",
        "\n",
        "    return x\n",
        "\n",
        "modelConv = ImageClassifierConv().to(device)"
      ],
      "execution_count": 10,
      "outputs": []
    },
    {
      "cell_type": "code",
      "metadata": {
        "id": "fF_H8UBNAc-B",
        "outputId": "26391cf8-82e2-4776-b05b-fff44343fa6a",
        "colab": {
          "base_uri": "https://localhost:8080/"
        }
      },
      "source": [
        "import numpy as np\n",
        "import time \n",
        "from torch.autograd import Variable\n",
        "\n",
        "opt = torch.optim.Adam(modelConv.parameters(), lr=0.00001)\n",
        "\n",
        "train_loss = []\n",
        "val_accuracy = []\n",
        "val_accuracy_by_epochs = []\n",
        "\n",
        "epoch = 0\n",
        "while True:\n",
        "  epoch += 1\n",
        "  start_time = time.time()\n",
        "  modelConv.train(True)\n",
        "  for X_batch, y_batch in train_batch_gen:\n",
        "    loss = compute_loss(modelConv, X_batch, y_batch)\n",
        "    loss.backward()\n",
        "    opt.step()\n",
        "    opt.zero_grad()\n",
        "    train_loss.append(loss.cpu().data.numpy())\n",
        "\n",
        "  modelConv.train(False)\n",
        "  for X_batch, y_batch in val_batch_gen:\n",
        "    logits = modelConv(X_batch.to(device))\n",
        "    y_pred = logits.max(1)[1].data\n",
        "    val_accuracy.append(np.mean((y_batch.cpu() == y_pred.cpu()).numpy()))\n",
        "  \n",
        "  val_accuracy_by_epoch = np.mean(val_accuracy[-len(val_dataset) // batch_size :]) * 100\n",
        "  print(\"Epoch {} took {:.3f}s\".format(epoch, time.time() - start_time))\n",
        "  print(\"    training loss (in-iteration): \\t{:.6f}\".format(np.mean(train_loss[-len(train_dataset) // batch_size :])))\n",
        "  print(\"    validation accuracy: \\t\\t\\t{:.2f} %\".format(val_accuracy_by_epoch))\n",
        "  if len(val_accuracy_by_epochs) >= 10 and all(acc < val_accuracy_by_epoch for acc in val_accuracy_by_epochs[-10:]):\n",
        "    break\n",
        "  val_accuracy_by_epochs.append(val_accuracy_by_epoch)"
      ],
      "execution_count": 11,
      "outputs": [
        {
          "output_type": "stream",
          "name": "stderr",
          "text": [
            "/usr/local/lib/python3.7/dist-packages/torch/nn/functional.py:718: UserWarning: Named tensors and all their associated APIs are an experimental feature and subject to change. Please do not use them for anything important until they are released as stable. (Triggered internally at  /pytorch/c10/core/TensorImpl.h:1156.)\n",
            "  return torch.max_pool2d(input, kernel_size, stride, padding, dilation, ceil_mode)\n"
          ]
        },
        {
          "output_type": "stream",
          "name": "stdout",
          "text": [
            "Epoch 1 took 52.511s\n",
            "    training loss (in-iteration): \t5.270666\n",
            "    validation accuracy: \t\t\t1.34 %\n",
            "Epoch 2 took 51.906s\n",
            "    training loss (in-iteration): \t5.085809\n",
            "    validation accuracy: \t\t\t2.40 %\n",
            "Epoch 3 took 52.018s\n",
            "    training loss (in-iteration): \t5.026225\n",
            "    validation accuracy: \t\t\t3.48 %\n",
            "Epoch 4 took 51.646s\n",
            "    training loss (in-iteration): \t4.963104\n",
            "    validation accuracy: \t\t\t4.29 %\n",
            "Epoch 5 took 51.922s\n",
            "    training loss (in-iteration): \t4.888052\n",
            "    validation accuracy: \t\t\t5.10 %\n",
            "Epoch 6 took 51.610s\n",
            "    training loss (in-iteration): \t4.827873\n",
            "    validation accuracy: \t\t\t5.55 %\n",
            "Epoch 7 took 52.257s\n",
            "    training loss (in-iteration): \t4.779799\n",
            "    validation accuracy: \t\t\t6.05 %\n",
            "Epoch 8 took 51.774s\n",
            "    training loss (in-iteration): \t4.739690\n",
            "    validation accuracy: \t\t\t6.44 %\n",
            "Epoch 9 took 50.206s\n",
            "    training loss (in-iteration): \t4.704367\n",
            "    validation accuracy: \t\t\t6.51 %\n",
            "Epoch 10 took 51.015s\n",
            "    training loss (in-iteration): \t4.673339\n",
            "    validation accuracy: \t\t\t7.11 %\n",
            "Epoch 11 took 51.421s\n",
            "    training loss (in-iteration): \t4.647015\n",
            "    validation accuracy: \t\t\t7.45 %\n"
          ]
        }
      ]
    },
    {
      "cell_type": "code",
      "metadata": {
        "id": "gsJawY8CqTd7"
      },
      "source": [
        "class ImageClassifierConvNormalizationRegularization(nn.Module):\n",
        "  def __init__(self):\n",
        "    super(ImageClassifierConvNormalizationRegularization, self).__init__()\n",
        "    self.conv1 = nn.Conv2d(3, 64, kernel_size=(3,3))\n",
        "    self.conv2 = nn.Conv2d(64, 128, kernel_size=(3,3))\n",
        "    self.conv3 = nn.Conv2d(128, 256, kernel_size=(3,3))\n",
        "    self.conv4 = nn.Conv2d(256, 512, kernel_size=(3,3))\n",
        "\n",
        "    self.batch_norm1 = nn.BatchNorm2d(64)\n",
        "    self.batch_norm2 = nn.BatchNorm2d(128)\n",
        "    self.batch_norm3 = nn.BatchNorm2d(256)\n",
        "    self.batch_norm4 = nn.BatchNorm2d(512)\n",
        "\n",
        "    self.fc1 = nn.Linear(2048, 512)\n",
        "    self.fc2 = nn.Linear(512, 200)\n",
        "\n",
        "  def forward(self, x):\n",
        "    x = F.dropout2d(self.batch_norm1(F.relu(F.max_pool2d(self.conv1(x), (2, 2)))), p=0.3)\n",
        "    x = F.dropout2d(self.batch_norm2(F.relu(F.max_pool2d(self.conv2(x), (2, 2)))), p=0.3)\n",
        "    x = F.dropout2d(self.batch_norm3(F.relu(F.max_pool2d(self.conv3(x), (2, 2)))), p=0.3)\n",
        "    x = self.batch_norm4(F.relu(F.max_pool2d(self.conv4(x), (2, 2))))\n",
        "\n",
        "    x = torch.flatten(x, 1)\n",
        "    # print(x.shape)\n",
        "    x = F.dropout(F.relu(self.fc1(x)), p=0.3)\n",
        "    x = self.fc2(x)\n",
        "\n",
        "    return x\n",
        "  \n",
        "modelConvNormalizationRegularization = ImageClassifierConvNormalizationRegularization().to(device)"
      ],
      "execution_count": 61,
      "outputs": []
    },
    {
      "cell_type": "code",
      "metadata": {
        "id": "ggzruVMLzO-k",
        "colab": {
          "base_uri": "https://localhost:8080/"
        },
        "outputId": "b58e77c9-3bb1-4f59-cc08-ef1248f79cb8"
      },
      "source": [
        "import numpy as np\n",
        "import time \n",
        "\n",
        "opt = torch.optim.Adam(modelConvNormalizationRegularization.parameters(), lr=0.001, weight_decay=0.0001)\n",
        "\n",
        "train_loss = []\n",
        "val_accuracy = []\n",
        "val_accuracy_by_epochs = []\n",
        "\n",
        "epoch = 0\n",
        "while True:\n",
        "  epoch += 1\n",
        "  start_time = time.time()\n",
        "  modelConvNormalizationRegularization.train(True)\n",
        "  for X_batch, y_batch in train_batch_gen:\n",
        "    loss = compute_loss(modelConvNormalizationRegularization, X_batch, y_batch)\n",
        "    loss.backward()\n",
        "    opt.step()\n",
        "    opt.zero_grad()\n",
        "    train_loss.append(loss.cpu().data.numpy())\n",
        "\n",
        "  modelConvNormalizationRegularization.train(False)\n",
        "  for X_batch, y_batch in val_batch_gen:\n",
        "    logits = modelConvNormalizationRegularization(X_batch.to(device))\n",
        "    y_pred = logits.max(1)[1].data\n",
        "    val_accuracy.append(np.mean((y_batch.cpu() == y_pred.cpu()).numpy()))\n",
        "  \n",
        "  val_accuracy_by_epoch = np.mean(val_accuracy[-len(val_dataset) // batch_size :]) * 100\n",
        "  print(\"Epoch {} took {:.3f}s\".format(epoch, time.time() - start_time))\n",
        "  print(\"    training loss (in-iteration): \\t{:.6f}\".format(np.mean(train_loss[-len(train_dataset) // batch_size :])))\n",
        "  print(\"    validation accuracy: \\t\\t\\t{:.2f} %\".format(val_accuracy_by_epoch))\n",
        "  if len(val_accuracy_by_epochs) >= 10 and all(acc < val_accuracy_by_epoch for acc in val_accuracy_by_epochs[-10:]):\n",
        "    break\n",
        "  val_accuracy_by_epochs.append(val_accuracy_by_epoch)"
      ],
      "execution_count": 62,
      "outputs": [
        {
          "output_type": "stream",
          "name": "stdout",
          "text": [
            "Epoch 1 took 57.007s\n",
            "    training loss (in-iteration): \t4.602570\n",
            "    validation accuracy: \t\t\t11.25 %\n",
            "Epoch 2 took 56.624s\n",
            "    training loss (in-iteration): \t4.021168\n",
            "    validation accuracy: \t\t\t14.65 %\n",
            "Epoch 3 took 56.857s\n",
            "    training loss (in-iteration): \t3.749891\n",
            "    validation accuracy: \t\t\t18.65 %\n",
            "Epoch 4 took 57.206s\n",
            "    training loss (in-iteration): \t3.553088\n",
            "    validation accuracy: \t\t\t20.22 %\n",
            "Epoch 5 took 56.631s\n",
            "    training loss (in-iteration): \t3.398195\n",
            "    validation accuracy: \t\t\t22.01 %\n",
            "Epoch 6 took 56.868s\n",
            "    training loss (in-iteration): \t3.261545\n",
            "    validation accuracy: \t\t\t22.97 %\n",
            "Epoch 7 took 56.072s\n",
            "    training loss (in-iteration): \t3.144728\n",
            "    validation accuracy: \t\t\t24.09 %\n",
            "Epoch 8 took 55.955s\n",
            "    training loss (in-iteration): \t3.041627\n",
            "    validation accuracy: \t\t\t24.67 %\n",
            "Epoch 9 took 55.707s\n",
            "    training loss (in-iteration): \t2.945104\n",
            "    validation accuracy: \t\t\t24.58 %\n",
            "Epoch 10 took 55.955s\n",
            "    training loss (in-iteration): \t2.873735\n",
            "    validation accuracy: \t\t\t24.55 %\n",
            "Epoch 11 took 55.607s\n",
            "    training loss (in-iteration): \t2.788422\n",
            "    validation accuracy: \t\t\t25.42 %\n"
          ]
        }
      ]
    },
    {
      "cell_type": "code",
      "metadata": {
        "id": "3jxUWfoeg5dV"
      },
      "source": [
        "from torchvision import transforms\n",
        "means = np.array((0.4914, 0.4822, 0.4465))\n",
        "stds = np.array((0.2023, 0.1994, 0.2010))\n",
        "\n",
        "transform_augment = transforms.Compose([\n",
        "    transforms.RandomRotation([-15, 15]),\n",
        "    transforms.RandomHorizontalFlip(),\n",
        "    transforms.ToTensor(),\n",
        "    transforms.Normalize(means, stds)                       \n",
        "])\n",
        "\n",
        "dataset = torchvision.datasets.ImageFolder('tiny-imagenet-200/train', transform=transform_augment)\n",
        "train_dataset, val_dataset = torch.utils.data.random_split(dataset, [90000, 10000])\n",
        "train_batch_gen = torch.utils.data.DataLoader(\n",
        "    train_dataset,\n",
        "    batch_size=batch_size,\n",
        "    shuffle=True,\n",
        "    num_workers=1\n",
        ")\n",
        "\n",
        "val_batch_gen = torch.utils.data.DataLoader(\n",
        "    val_dataset,\n",
        "    batch_size=batch_size,\n",
        "    shuffle=True,\n",
        "    num_workers=1\n",
        ")"
      ],
      "execution_count": 63,
      "outputs": []
    },
    {
      "cell_type": "code",
      "metadata": {
        "id": "AdiYQZkAi2eN",
        "colab": {
          "base_uri": "https://localhost:8080/"
        },
        "outputId": "70c418fe-9733-457e-ed4b-6f3808c4d477"
      },
      "source": [
        "import numpy as np\n",
        "import time \n",
        "\n",
        "opt = torch.optim.Adam(modelConvNormalizationRegularization.parameters(), lr=0.00001, weight_decay=0.0001)\n",
        "\n",
        "train_loss = []\n",
        "val_accuracy = []\n",
        "val_accuracy_by_epochs = []\n",
        "\n",
        "epoch = 0\n",
        "while True:\n",
        "  epoch += 1\n",
        "  start_time = time.time()\n",
        "  modelConvNormalizationRegularization.train(True)\n",
        "  for X_batch, y_batch in train_batch_gen:\n",
        "    loss = compute_loss(modelConvNormalizationRegularization, X_batch, y_batch)\n",
        "    loss.backward()\n",
        "    opt.step()\n",
        "    opt.zero_grad()\n",
        "    train_loss.append(loss.cpu().data.numpy())\n",
        "\n",
        "  modelConvNormalizationRegularization.train(False)\n",
        "  for X_batch, y_batch in val_batch_gen:\n",
        "    logits = modelConvNormalizationRegularization(X_batch.to(device))\n",
        "    y_pred = logits.max(1)[1].data\n",
        "    val_accuracy.append(np.mean((y_batch.cpu() == y_pred.cpu()).numpy()))\n",
        "  \n",
        "  val_accuracy_by_epoch = np.mean(val_accuracy[-len(val_dataset) // batch_size :]) * 100\n",
        "  print(\"Epoch {} took {:.3f}s\".format(epoch, time.time() - start_time))\n",
        "  print(\"    training loss (in-iteration): \\t{:.6f}\".format(np.mean(train_loss[-len(train_dataset) // batch_size :])))\n",
        "  print(\"    validation accuracy: \\t\\t\\t{:.2f} %\".format(val_accuracy_by_epoch))\n",
        "  if len(val_accuracy_by_epochs) >= 10 and all(acc < val_accuracy_by_epoch for acc in val_accuracy_by_epochs[-10:]):\n",
        "    break\n",
        "  val_accuracy_by_epochs.append(val_accuracy_by_epoch)"
      ],
      "execution_count": 72,
      "outputs": [
        {
          "output_type": "stream",
          "name": "stdout",
          "text": [
            "Epoch 1 took 88.179s\n",
            "    training loss (in-iteration): \t2.549023\n",
            "    validation accuracy: \t\t\t31.51 %\n",
            "Epoch 2 took 90.982s\n",
            "    training loss (in-iteration): \t2.546473\n",
            "    validation accuracy: \t\t\t31.70 %\n",
            "Epoch 3 took 89.970s\n",
            "    training loss (in-iteration): \t2.535152\n",
            "    validation accuracy: \t\t\t31.88 %\n"
          ]
        },
        {
          "output_type": "stream",
          "name": "stderr",
          "text": [
            "Exception ignored in: <function _MultiProcessingDataLoaderIter.__del__ at 0x7f90b952d680>\n",
            "Traceback (most recent call last):\n",
            "  File \"/usr/local/lib/python3.7/dist-packages/torch/utils/data/dataloader.py\", line 1328, in __del__\n",
            "    self._shutdown_workers()\n",
            "  File \"/usr/local/lib/python3.7/dist-packages/torch/utils/data/dataloader.py\", line 1320, in _shutdown_workers\n",
            "    if w.is_alive():\n",
            "  File \"/usr/lib/python3.7/multiprocessing/process.py\", line 151, in is_alive\n",
            "    assert self._parent_pid == os.getpid(), 'can only test a child process'\n",
            "AssertionError: can only test a child process\n"
          ]
        },
        {
          "output_type": "stream",
          "name": "stdout",
          "text": [
            "Epoch 4 took 90.776s\n",
            "    training loss (in-iteration): \t2.531457\n",
            "    validation accuracy: \t\t\t32.16 %\n"
          ]
        },
        {
          "output_type": "stream",
          "name": "stderr",
          "text": [
            "Exception ignored in: <function _MultiProcessingDataLoaderIter.__del__ at 0x7f90b952d680>\n",
            "Traceback (most recent call last):\n",
            "  File \"/usr/local/lib/python3.7/dist-packages/torch/utils/data/dataloader.py\", line 1328, in __del__\n",
            "    self._shutdown_workers()\n",
            "  File \"/usr/local/lib/python3.7/dist-packages/torch/utils/data/dataloader.py\", line 1320, in _shutdown_workers\n",
            "    if w.is_alive():\n",
            "  File \"/usr/lib/python3.7/multiprocessing/process.py\", line 151, in is_alive\n",
            "    assert self._parent_pid == os.getpid(), 'can only test a child process'\n",
            "AssertionError: can only test a child process\n"
          ]
        },
        {
          "output_type": "stream",
          "name": "stdout",
          "text": [
            "Epoch 5 took 90.052s\n",
            "    training loss (in-iteration): \t2.517502\n",
            "    validation accuracy: \t\t\t31.44 %\n",
            "Epoch 6 took 89.931s\n",
            "    training loss (in-iteration): \t2.515619\n",
            "    validation accuracy: \t\t\t31.96 %\n",
            "Epoch 7 took 89.369s\n",
            "    training loss (in-iteration): \t2.510301\n",
            "    validation accuracy: \t\t\t31.65 %\n",
            "Epoch 8 took 88.748s\n",
            "    training loss (in-iteration): \t2.502356\n",
            "    validation accuracy: \t\t\t32.45 %\n",
            "Epoch 9 took 88.838s\n",
            "    training loss (in-iteration): \t2.496763\n",
            "    validation accuracy: \t\t\t32.53 %\n",
            "Epoch 10 took 88.275s\n",
            "    training loss (in-iteration): \t2.489931\n",
            "    validation accuracy: \t\t\t32.07 %\n",
            "Epoch 11 took 87.927s\n",
            "    training loss (in-iteration): \t2.485297\n",
            "    validation accuracy: \t\t\t32.70 %\n"
          ]
        }
      ]
    },
    {
      "cell_type": "code",
      "metadata": {
        "id": "OefYXrRAkcwE",
        "outputId": "0fb2efd0-ee2a-43d9-b305-40c9ed0c914b",
        "colab": {
          "base_uri": "https://localhost:8080/"
        }
      },
      "source": [
        "transform_test = transforms.Compose([\n",
        "    transforms.ToTensor(),\n",
        "    transforms.Normalize(means, stds)\n",
        "])\n",
        "\n",
        "dataset = torchvision.datasets.ImageFolder('tiny-imagenet-200/val', transform=transform_test)\n",
        "test_batch_gen = torch.utils.data.DataLoader(\n",
        "    dataset,\n",
        "    batch_size=batch_size,\n",
        "    shuffle=True,\n",
        "    num_workers=1\n",
        ")\n",
        "\n",
        "val_accuracy = []\n",
        "modelConvNormalizationRegularization.train(False)\n",
        "for X_batch, y_batch in test_batch_gen:\n",
        "  logits = modelConvNormalizationRegularization(X_batch.to(device))\n",
        "  y_pred = logits.max(1)[1].data\n",
        "  val_accuracy.append(np.mean((y_batch.cpu() == y_pred.cpu()).numpy()))\n",
        "\n",
        "test_acc = np.mean(val_accuracy)\n",
        "print(test_acc)"
      ],
      "execution_count": 73,
      "outputs": [
        {
          "output_type": "stream",
          "name": "stdout",
          "text": [
            "0.3264\n"
          ]
        }
      ]
    },
    {
      "cell_type": "markdown",
      "metadata": {
        "cellId": "61mhdyw7guo0wuubi3ohc",
        "id": "s4KgnVCZHJEw"
      },
      "source": [
        "When everything is done, please calculate accuracy on `tiny-imagenet-200/val`"
      ]
    },
    {
      "cell_type": "code",
      "metadata": {
        "cellId": "9om7xr4hledgg42mo0h6r6",
        "id": "YUvW3eyZHJEx"
      },
      "source": [
        "test_accuracy = test_acc # YOUR CODE"
      ],
      "execution_count": 74,
      "outputs": []
    },
    {
      "cell_type": "code",
      "metadata": {
        "cellId": "12y9s3qrcpnsur64jcte8g",
        "id": "XM-2VscwHJEx",
        "outputId": "9323fa11-8c09-4a60-b884-f2f965fe1a0d",
        "colab": {
          "base_uri": "https://localhost:8080/"
        }
      },
      "source": [
        "print(\"Final results:\")\n",
        "print(\"  test accuracy:\\t\\t{:.2f} %\".format(\n",
        "    test_accuracy * 100))\n",
        "\n",
        "if test_accuracy * 100 > 40:\n",
        "    print(\"Achievement unlocked: 110lvl Warlock!\")\n",
        "elif test_accuracy * 100 > 35:\n",
        "    print(\"Achievement unlocked: 80lvl Warlock!\")\n",
        "elif test_accuracy * 100 > 30:\n",
        "    print(\"Achievement unlocked: 70lvl Warlock!\")\n",
        "elif test_accuracy * 100 > 25:\n",
        "    print(\"Achievement unlocked: 60lvl Warlock!\")\n",
        "else:\n",
        "    print(\"We need more magic! Follow instructons below\")"
      ],
      "execution_count": 75,
      "outputs": [
        {
          "output_type": "stream",
          "name": "stdout",
          "text": [
            "Final results:\n",
            "  test accuracy:\t\t32.64 %\n",
            "Achievement unlocked: 70lvl Warlock!\n"
          ]
        }
      ]
    },
    {
      "cell_type": "markdown",
      "metadata": {
        "cellId": "yr08a2dr7ymtgsrdtpx4cf",
        "id": "wKEc6EtCHJEy"
      },
      "source": [
        "```\n",
        "\n",
        "```\n",
        "\n",
        "```\n",
        "\n",
        "```\n",
        "\n",
        "```\n",
        "\n",
        "```\n",
        "\n",
        "\n",
        "# Report\n",
        "\n",
        "All creative approaches are highly welcome, but at the very least it would be great to mention\n",
        "* the idea;\n",
        "* brief history of tweaks and improvements;\n",
        "* what is the final architecture and why?\n",
        "* what is the training method and, again, why?\n",
        "* Any regularizations and other techniques applied and their effects;\n",
        "\n",
        "\n",
        "There is no need to write strict mathematical proofs (unless you want to).\n",
        " * \"I tried this, this and this, and the second one turned out to be better. And i just didn't like the name of that one\" - OK, but can be better\n",
        " * \"I have analized these and these articles|sources|blog posts, tried that and that to adapt them to my problem and the conclusions are such and such\" - the ideal one\n",
        " * \"I took that code that demo without understanding it, but i'll never confess that and instead i'll make up some pseudoscientific explaination\" - __not_ok__"
      ]
    },
    {
      "cell_type": "markdown",
      "metadata": {
        "cellId": "5o8ejms08zgpm096pducuk",
        "id": "iaOn1STQHJEz"
      },
      "source": [
        "### Hi, my name is `___ ___`, and here's my story\n",
        "\n",
        "A long time ago in a galaxy far far away, when it was still more than an hour before the deadline, i got an idea:\n",
        "\n",
        "##### I gonna build a neural network, that\n",
        "* brief text on what was\n",
        "* the original idea\n",
        "* and why it was so\n",
        "\n",
        "How could i be so naive?!\n",
        "\n",
        "##### One day, with no signs of warning,\n",
        "This thing has finally converged and\n",
        "* Some explaination about what were the results,\n",
        "* what worked and what didn't\n",
        "* most importantly - what next steps were taken, if any\n",
        "* and what were their respective outcomes\n",
        "\n",
        "##### Finally, after __  iterations, __ mugs of [tea/coffee]\n",
        "* what was the final architecture\n",
        "* as well as training method and tricks\n",
        "\n",
        "That, having wasted ____ [minutes, hours or days] of my life training, got\n",
        "\n",
        "* accuracy on training: __\n",
        "* accuracy on validation: __\n",
        "* accuracy on test: __\n",
        "\n",
        "\n",
        "[an optional afterword and mortal curses on assignment authors]"
      ]
    }
  ]
}